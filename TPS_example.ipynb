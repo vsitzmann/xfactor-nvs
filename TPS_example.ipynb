{
 "cells": [
  {
   "cell_type": "markdown",
   "id": "4d475f4f",
   "metadata": {},
   "source": [
    "# Load VGGT Oracle"
   ]
  },
  {
   "cell_type": "code",
   "execution_count": null,
   "id": "acd8d544",
   "metadata": {},
   "outputs": [],
   "source": [
    "from vggt.oracle import VggtOracle\n",
    "vggt = VggtOracle().to(\"cuda\")"
   ]
  },
  {
   "cell_type": "markdown",
   "id": "b29a1eb1",
   "metadata": {},
   "source": [
    "# Load Videos"
   ]
  },
  {
   "cell_type": "code",
   "execution_count": 2,
   "id": "05703d26",
   "metadata": {},
   "outputs": [],
   "source": [
    "import numpy as np\n",
    "from PIL import Image\n",
    "import os\n",
    "from natsort import natsorted\n",
    "\n",
    "def load_video_frames_from_dir(directory):\n",
    "    img_files = [os.path.join(directory, fname) for fname in os.listdir(directory) if fname.lower().endswith(('.jpg', '.jpeg', '.png'))]\n",
    "    img_files = natsorted(img_files)\n",
    "    frames = []\n",
    "    for img_path in img_files:\n",
    "        img = Image.open(img_path).convert('RGB')\n",
    "        img_np = np.array(img)\n",
    "        frames.append(img_np)\n",
    "    return np.stack(frames, axis=0)  # shape: [N, H, W, C]\n",
    "\n",
    "target_video = load_video_frames_from_dir('./example_videos/target')\n",
    "xfer_video = load_video_frames_from_dir('./example_videos/transfer')"
   ]
  },
  {
   "cell_type": "markdown",
   "id": "bfa13cfc",
   "metadata": {},
   "source": [
    "# Get Camera Metrics"
   ]
  },
  {
   "cell_type": "code",
   "execution_count": 3,
   "id": "5c43c46d",
   "metadata": {},
   "outputs": [
    {
     "name": "stdout",
     "output_type": "stream",
     "text": [
      "traj_err_scale_invariant: 0.037436078825655736\n",
      "traj_err_unscaled: 0.047111187428393986\n",
      "Rac_3: 0.993103448275862\n",
      "Tac_3: 0.034482758620689655\n",
      "Rac_5: 1.0\n",
      "Tac_5: 0.26206896551724135\n",
      "Rac_10: 1.0\n",
      "Tac_10: 0.8160919540229885\n",
      "Rac_15: 1.0\n",
      "Tac_15: 0.9333333333333333\n",
      "Rac_20: 1.0\n",
      "Tac_20: 0.9747126436781609\n",
      "Rac_30: 1.0\n",
      "Tac_30: 0.9885057471264368\n",
      "Rot_Auc_3: 0.764750957854406\n",
      "Trans_Auc_3: 0.014559386973180075\n",
      "SE3_Auc_3: 0.014559386973180075\n",
      "Rot_Auc_5: 0.8588505747126437\n",
      "Trans_Auc_5: 0.07310344827586206\n",
      "SE3_Auc_5: 0.07310344827586206\n",
      "Rot_Auc_10: 0.9294252873563219\n",
      "Trans_Auc_10: 0.366896551724138\n",
      "SE3_Auc_10: 0.366896551724138\n",
      "Rot_Auc_15: 0.9529501915708812\n",
      "Trans_Auc_15: 0.5420689655172414\n",
      "SE3_Auc_15: 0.5420689655172414\n",
      "Rot_Auc_20: 0.9647126436781609\n",
      "Trans_Auc_20: 0.6455172413793104\n",
      "SE3_Auc_20: 0.6455172413793104\n",
      "Rot_Auc_30: 0.9764750957854406\n",
      "Trans_Auc_30: 0.7586206896551724\n",
      "SE3_Auc_30: 0.7586206896551724\n"
     ]
    }
   ],
   "source": [
    "tps_metrics = vggt.compute_TPS(target_images=target_video, transfer_images=xfer_video)\n",
    "for k, v in tps_metrics.items():\n",
    "    print(f\"{k}: {v.item()}\")"
   ]
  },
  {
   "cell_type": "code",
   "execution_count": null,
   "id": "58b3a91f",
   "metadata": {},
   "outputs": [],
   "source": []
  },
  {
   "cell_type": "code",
   "execution_count": null,
   "id": "c5dd4855",
   "metadata": {},
   "outputs": [],
   "source": []
  },
  {
   "cell_type": "code",
   "execution_count": null,
   "id": "d1cc4702",
   "metadata": {},
   "outputs": [],
   "source": []
  }
 ],
 "metadata": {
  "kernelspec": {
   "display_name": "XFactor",
   "language": "python",
   "name": "python3"
  },
  "language_info": {
   "codemirror_mode": {
    "name": "ipython",
    "version": 3
   },
   "file_extension": ".py",
   "mimetype": "text/x-python",
   "name": "python",
   "nbconvert_exporter": "python",
   "pygments_lexer": "ipython3",
   "version": "3.12.11"
  }
 },
 "nbformat": 4,
 "nbformat_minor": 5
}
